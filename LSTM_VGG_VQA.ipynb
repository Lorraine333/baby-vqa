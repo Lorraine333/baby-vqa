{
 "cells": [
  {
   "cell_type": "markdown",
   "metadata": {},
   "source": [
    "# Visual Question Answering with LSTM and VGG features\n",
    "\n",
    "In this notebook, we build a VQA model with LSTM as the language model and the VGG-19 as our visual model. Since the full dataset is quite large, we load and play with a small portion of it on our local machine. "
   ]
  },
  {
   "cell_type": "code",
   "execution_count": 1,
   "metadata": {
    "collapsed": false
   },
   "outputs": [
    {
     "name": "stderr",
     "output_type": "stream",
     "text": [
      "Using TensorFlow backend.\n"
     ]
    }
   ],
   "source": [
    "# don't re-inventing the wheel\n",
    "import h5py, json, spacy\n",
    "\n",
    "import numpy as np\n",
    "import cPickle as pickle\n",
    "\n",
    "%matplotlib inline\n",
    "import matplotlib.pyplot as plt\n",
    "\n",
    "from model import LSTMModel\n",
    "from utils import prepare_ques_batch, prepare_im_batch"
   ]
  },
  {
   "cell_type": "markdown",
   "metadata": {},
   "source": [
    "### Word Embeddings\n",
    "For word embeddings, we use the pre-trained `word2vec` provided by the `spacy` package"
   ]
  },
  {
   "cell_type": "code",
   "execution_count": 2,
   "metadata": {
    "collapsed": false
   },
   "outputs": [],
   "source": [
    "# run `python -m spacy.en.download` to collect the embeddings (1st time only)\n",
    "embeddings = spacy.en.English()\n",
    "word_dim = 300"
   ]
  },
  {
   "cell_type": "markdown",
   "metadata": {},
   "source": [
    "### Loading Tiny Dataset\n",
    "Here we load a tiny dataset of 300 question/answer pairs and 100 images which is prepared using the script in `Dataset Handling.ipynb`"
   ]
  },
  {
   "cell_type": "code",
   "execution_count": 3,
   "metadata": {
    "collapsed": false
   },
   "outputs": [
    {
     "name": "stdout",
     "output_type": "stream",
     "text": [
      "Loading tiny dataset of 100 image features and 300 question/answer pairs for training.\n"
     ]
    }
   ],
   "source": [
    "h5_img_file_tiny = h5py.File('data/vqa_data_img_vgg_train_tiny.h5', 'r')\n",
    "fv_im_tiny = h5_img_file_tiny.get('/images_train')\n",
    "\n",
    "with open('data/qa_data_train_tiny.pkl', 'rb') as fp:\n",
    "    qa_data_tiny = pickle.load(fp)\n",
    "\n",
    "json_file = json.load(open('data/vqa_data_prepro.json', 'r'))\n",
    "ix_to_word = json_file['ix_to_word']\n",
    "ix_to_ans = json_file['ix_to_ans']\n",
    "\n",
    "vocab_size = len(ix_to_word)\n",
    "print \"Loading tiny dataset of %d image features and %d question/answer pairs for training.\" % (len(fv_im_tiny), len(qa_data_tiny)) "
   ]
  },
  {
   "cell_type": "markdown",
   "metadata": {},
   "source": [
    "In this dataset, one image associates with muiltiple question/answer pairs (3 in this case). Therefore, we need to hand-binding the question/answer pairs with the corresponding image feature for training."
   ]
  },
  {
   "cell_type": "code",
   "execution_count": 6,
   "metadata": {
    "collapsed": false
   },
   "outputs": [],
   "source": [
    "questions, ques_len, im_ix, ans = zip(*qa_data_tiny)\n",
    "\n",
    "nb_classes = 1000\n",
    "max_ques_len = 26\n",
    "\n",
    "X_ques = prepare_ques_batch(questions, ques_len, max_ques_len, embeddings, word_dim, ix_to_word)\n",
    "X_im = prepare_im_batch(fv_im_tiny, im_ix)\n",
    "y = np.zeros((len(ans), nb_classes))\n",
    "y[np.arange(len(ans)), ans] = 1"
   ]
  },
  {
   "cell_type": "markdown",
   "metadata": {},
   "source": [
    "### Overfit LSTM + VGG\n",
    "Finally, we are getting to the fun part! Let's build our model..."
   ]
  },
  {
   "cell_type": "code",
   "execution_count": 7,
   "metadata": {
    "collapsed": false
   },
   "outputs": [
    {
     "name": "stdout",
     "output_type": "stream",
     "text": [
      "____________________________________________________________________________________________________\n",
      "Layer (type)                     Output Shape          Param #     Connected to                     \n",
      "====================================================================================================\n",
      "bidirectional_1 (Bidirectional)  (None, 1024)          3330048                                      \n",
      "____________________________________________________________________________________________________\n",
      "maxpooling2d_1 (MaxPooling2D)    (None, 7, 7, 512)     0                                            \n",
      "____________________________________________________________________________________________________\n",
      "flatten_1 (Flatten)              (None, 25088)         0                                            \n",
      "____________________________________________________________________________________________________\n",
      "dense_1 (Dense)                  (None, 4096)          102764544                                    \n",
      "____________________________________________________________________________________________________\n",
      "batchnormalization_1 (BatchNormal(None, 4096)          8192                                         \n",
      "____________________________________________________________________________________________________\n",
      "dense_2 (Dense)                  (None, 4096)          16781312                                     \n",
      "____________________________________________________________________________________________________\n",
      "batchnormalization_2 (BatchNormal(None, 4096)          8192                                         \n",
      "____________________________________________________________________________________________________\n",
      "dense_3 (Dense)                  (None, 4096)          16781312                                     \n",
      "____________________________________________________________________________________________________\n",
      "batchnormalization_3 (BatchNormal(None, 4096)          8192                                         \n",
      "____________________________________________________________________________________________________\n",
      "batchnormalization_4 (BatchNormal(None, 5120)          10240       merge_1[0][0]                    \n",
      "____________________________________________________________________________________________________\n",
      "dense_4 (Dense)                  (None, 2014)          10313694    batchnormalization_4[0][0]       \n",
      "____________________________________________________________________________________________________\n",
      "batchnormalization_5 (BatchNormal(None, 2014)          4028        dense_4[0][0]                    \n",
      "____________________________________________________________________________________________________\n",
      "dropout_1 (Dropout)              (None, 2014)          0           batchnormalization_5[0][0]       \n",
      "____________________________________________________________________________________________________\n",
      "dense_5 (Dense)                  (None, 2014)          4058210     dropout_1[0][0]                  \n",
      "____________________________________________________________________________________________________\n",
      "batchnormalization_6 (BatchNormal(None, 2014)          4028        dense_5[0][0]                    \n",
      "____________________________________________________________________________________________________\n",
      "dropout_2 (Dropout)              (None, 2014)          0           batchnormalization_6[0][0]       \n",
      "____________________________________________________________________________________________________\n",
      "dense_6 (Dense)                  (None, 1000)          2015000     dropout_2[0][0]                  \n",
      "====================================================================================================\n",
      "Total params: 156086992\n",
      "____________________________________________________________________________________________________\n"
     ]
    }
   ],
   "source": [
    "model = LSTMModel()\n",
    "model.build()"
   ]
  },
  {
   "cell_type": "markdown",
   "metadata": {},
   "source": [
    "Since the dataset we are using is *tiny*, we can fit the whole dataset to the convenience `fit` method and specify the `batch_size`. Note that this already ate up a lot of memory and it won't work for the large dataset."
   ]
  },
  {
   "cell_type": "code",
   "execution_count": 8,
   "metadata": {
    "collapsed": false,
    "scrolled": true
   },
   "outputs": [
    {
     "name": "stdout",
     "output_type": "stream",
     "text": [
      "Epoch 1/50\n",
      "300/300 [==============================] - 73s - loss: 7.9907 - acc: 0.0100     \n",
      "Epoch 2/50\n",
      "300/300 [==============================] - 50s - loss: 4.6486 - acc: 0.2500    \n",
      "Epoch 3/50\n",
      "300/300 [==============================] - 55s - loss: 2.7681 - acc: 0.5133    \n",
      "Epoch 4/50\n",
      "300/300 [==============================] - 49s - loss: 1.7249 - acc: 0.6600    \n",
      "Epoch 5/50\n",
      "300/300 [==============================] - 48s - loss: 1.2428 - acc: 0.6800    \n",
      "Epoch 6/50\n",
      "300/300 [==============================] - 60s - loss: 1.0568 - acc: 0.7200    \n",
      "Epoch 7/50\n",
      "300/300 [==============================] - 59s - loss: 0.7550 - acc: 0.7800     \n",
      "Epoch 8/50\n",
      "300/300 [==============================] - 51s - loss: 0.6932 - acc: 0.8200    \n",
      "Epoch 9/50\n",
      "300/300 [==============================] - 43s - loss: 0.5585 - acc: 0.8267    \n",
      "Epoch 10/50\n",
      "300/300 [==============================] - 48s - loss: 0.5268 - acc: 0.8533    \n",
      "Epoch 11/50\n",
      "300/300 [==============================] - 52s - loss: 0.4691 - acc: 0.8667    \n",
      "Epoch 12/50\n",
      "300/300 [==============================] - 51s - loss: 0.3992 - acc: 0.8733    \n",
      "Epoch 13/50\n",
      "300/300 [==============================] - 54s - loss: 0.4250 - acc: 0.8800    \n",
      "Epoch 14/50\n",
      "300/300 [==============================] - 46s - loss: 0.3734 - acc: 0.9033    \n",
      "Epoch 15/50\n",
      "300/300 [==============================] - 48s - loss: 0.3020 - acc: 0.8933    \n",
      "Epoch 16/50\n",
      "300/300 [==============================] - 44s - loss: 0.2327 - acc: 0.9333    \n",
      "Epoch 17/50\n",
      "300/300 [==============================] - 45s - loss: 0.2192 - acc: 0.9333    \n",
      "Epoch 18/50\n",
      "300/300 [==============================] - 54s - loss: 0.2253 - acc: 0.9267    \n",
      "Epoch 19/50\n",
      "300/300 [==============================] - 43s - loss: 0.2484 - acc: 0.9267    \n",
      "Epoch 20/50\n",
      "300/300 [==============================] - 45s - loss: 0.1667 - acc: 0.9400    \n",
      "Epoch 21/50\n",
      "300/300 [==============================] - 45s - loss: 0.1572 - acc: 0.9533    \n",
      "Epoch 22/50\n",
      "300/300 [==============================] - 41s - loss: 0.1706 - acc: 0.9500    \n",
      "Epoch 23/50\n",
      "300/300 [==============================] - 61s - loss: 0.1498 - acc: 0.9500     \n",
      "Epoch 24/50\n",
      "300/300 [==============================] - 49s - loss: 0.1316 - acc: 0.9633    \n",
      "Epoch 25/50\n",
      "300/300 [==============================] - 60s - loss: 0.2232 - acc: 0.9467     \n",
      "Epoch 26/50\n",
      "300/300 [==============================] - 51s - loss: 0.1945 - acc: 0.9633    \n",
      "Epoch 27/50\n",
      "300/300 [==============================] - 51s - loss: 0.3117 - acc: 0.9100    \n",
      "Epoch 28/50\n",
      "300/300 [==============================] - 51s - loss: 0.2019 - acc: 0.9400    \n",
      "Epoch 29/50\n",
      "300/300 [==============================] - 45s - loss: 0.1497 - acc: 0.9767    \n",
      "Epoch 30/50\n",
      "300/300 [==============================] - 59s - loss: 0.0780 - acc: 0.9833    \n",
      "Epoch 31/50\n",
      "300/300 [==============================] - 54s - loss: 0.0476 - acc: 0.9900    \n",
      "Epoch 32/50\n",
      "300/300 [==============================] - 44s - loss: 0.1042 - acc: 0.9800    \n",
      "Epoch 33/50\n",
      "300/300 [==============================] - 43s - loss: 0.0800 - acc: 0.9833    \n",
      "Epoch 34/50\n",
      "300/300 [==============================] - 44s - loss: 0.0958 - acc: 0.9800    \n",
      "Epoch 35/50\n",
      "300/300 [==============================] - 44s - loss: 0.0866 - acc: 0.9800    \n",
      "Epoch 36/50\n",
      "300/300 [==============================] - 44s - loss: 0.0398 - acc: 0.9933    \n",
      "Epoch 37/50\n",
      "300/300 [==============================] - 40s - loss: 0.0473 - acc: 0.9867    \n",
      "Epoch 38/50\n",
      "300/300 [==============================] - 41s - loss: 0.0438 - acc: 0.9900    \n",
      "Epoch 39/50\n",
      "300/300 [==============================] - 43s - loss: 0.0566 - acc: 0.9833    \n",
      "Epoch 40/50\n",
      "300/300 [==============================] - 48s - loss: 0.1059 - acc: 0.9767    \n",
      "Epoch 41/50\n",
      "300/300 [==============================] - 44s - loss: 0.0663 - acc: 0.9900    \n",
      "Epoch 42/50\n",
      "300/300 [==============================] - 42s - loss: 0.0786 - acc: 0.9867    \n",
      "Epoch 43/50\n",
      "300/300 [==============================] - 45s - loss: 0.0495 - acc: 0.9867    \n",
      "Epoch 44/50\n",
      "300/300 [==============================] - 49s - loss: 0.0850 - acc: 0.9733    \n",
      "Epoch 45/50\n",
      "300/300 [==============================] - 47s - loss: 0.1627 - acc: 0.9700    \n",
      "Epoch 46/50\n",
      "300/300 [==============================] - 44s - loss: 0.0636 - acc: 0.9800    \n",
      "Epoch 47/50\n",
      "300/300 [==============================] - 44s - loss: 0.1548 - acc: 0.9667    \n",
      "Epoch 48/50\n",
      "300/300 [==============================] - 42s - loss: 0.1278 - acc: 0.9633    \n",
      "Epoch 49/50\n",
      "300/300 [==============================] - 43s - loss: 0.0255 - acc: 0.9933    \n",
      "Epoch 50/50\n",
      "300/300 [==============================] - 46s - loss: 0.0556 - acc: 0.9800    \n"
     ]
    }
   ],
   "source": [
    "loss = model.fit(X_ques, X_im, y, nb_epoch=50, batch_size=50)"
   ]
  },
  {
   "cell_type": "code",
   "execution_count": 9,
   "metadata": {
    "collapsed": false
   },
   "outputs": [
    {
     "data": {
      "text/plain": [
       "<matplotlib.legend.Legend at 0x257be2650>"
      ]
     },
     "execution_count": 9,
     "metadata": {},
     "output_type": "execute_result"
    },
    {
     "data": {
      "image/png": "[encoded data removed]",
      "text/plain": [
       "<matplotlib.figure.Figure at 0x256161e90>"
      ]
     },
     "metadata": {},
     "output_type": "display_data"
    }
   ],
   "source": [
    "plt.plot(loss.history['loss'], label='train_loss')\n",
    "plt.plot(loss.history['acc'], label='train_acc')\n",
    "plt.legend(loc='best')"
   ]
  },
  {
   "cell_type": "markdown",
   "metadata": {},
   "source": [
    "Let's see how far we can get with this overfitted model..."
   ]
  },
  {
   "cell_type": "code",
   "execution_count": 10,
   "metadata": {
    "collapsed": false
   },
   "outputs": [
    {
     "name": "stdout",
     "output_type": "stream",
     "text": [
      "Loading tiny dataset of 100 image features and 300 question/answer pairs for testing\n"
     ]
    }
   ],
   "source": [
    "h5_img_file_test_tiny = h5py.File('data/vqa_data_img_vgg_test_tiny.h5', 'r')\n",
    "fv_im_test_tiny = h5_img_file_test_tiny.get('/images_test')\n",
    "\n",
    "with open('data/qa_data_test_tiny.pkl', 'rb') as fp:\n",
    "    qa_data_test_tiny = pickle.load(fp)\n",
    "    \n",
    "print \"Loading tiny dataset of %d image features and %d question/answer pairs for testing\" % (len(fv_im_test_tiny), len(qa_data_test_tiny)) "
   ]
  },
  {
   "cell_type": "code",
   "execution_count": 11,
   "metadata": {
    "collapsed": false
   },
   "outputs": [],
   "source": [
    "questions, ques_len, im_ix, ans = zip(*qa_data_test_tiny)\n",
    "\n",
    "X_ques_test = prepare_ques_batch(questions, ques_len, max_ques_len, embeddings, word_dim, ix_to_word)\n",
    "X_im_test = prepare_im_batch(fv_im_test_tiny, im_ix)\n",
    "y_test = np.zeros((len(ans), nb_classes))\n",
    "y_test[np.arange(len(ans)), [494 if a > 1000 else a for a in ans]] = 1"
   ]
  },
  {
   "cell_type": "code",
   "execution_count": 12,
   "metadata": {
    "collapsed": false
   },
   "outputs": [
    {
     "name": "stdout",
     "output_type": "stream",
     "text": [
      "300/300 [==============================] - 5s     \n"
     ]
    }
   ],
   "source": [
    "loss, acc = model.evaluate(X_ques_test, X_im_test, y_test)"
   ]
  },
  {
   "cell_type": "code",
   "execution_count": 13,
   "metadata": {
    "collapsed": false
   },
   "outputs": [
    {
     "name": "stdout",
     "output_type": "stream",
     "text": [
      "4.7170976003 0.246666664879\n"
     ]
    }
   ],
   "source": [
    "print loss, acc"
   ]
  }
 ],
 "metadata": {
  "anaconda-cloud": {},
  "kernelspec": {
   "display_name": "Python [conda root]",
   "language": "python",
   "name": "conda-root-py"
  },
  "language_info": {
   "codemirror_mode": {
    "name": "ipython",
    "version": 2
   },
   "file_extension": ".py",
   "mimetype": "text/x-python",
   "name": "python",
   "nbconvert_exporter": "python",
   "pygments_lexer": "ipython2",
   "version": "2.7.12"
  }
 },
 "nbformat": 4,
 "nbformat_minor": 1
}
